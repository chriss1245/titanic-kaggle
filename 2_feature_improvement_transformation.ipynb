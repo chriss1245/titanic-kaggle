{
 "cells": [
  {
   "cell_type": "markdown",
   "id": "ac540968-0688-417a-a28a-b3c642156092",
   "metadata": {},
   "source": [
    "### Feature Improvement\n",
    "\n",
    "From the part of exploratory data analysis we concluded that:\n",
    "* Predicting by sex gives an accuracy around 75 and 80 percent\n",
    "* We do not need neither 'PassengerId', 'Name' or 'Ticket'\n",
    "* Our most conflictive feature is 'Cabin' becuase its diversity and the missing values. We will try to tune it.\n",
    "* We did not conclude anything interesting regarding 'Embark' and 'SibSp'\n",
    "* We have to tackle missing values on 'Age', 'Cabin' and 'Embarked'.\n",
    "* There are a few amount of continuous variables.\n",
    "\n",
    "On this section we are going to include another key library for data science: [sckit-learn](https://scikit-learn.org/stable/) which provides a lot of tools for feature transformation, feature selection, classification, regression, dimensionality reduction, and more. And numpy (numerical methods on python) which is quite used by pandas and sklearn"
   ]
  },
  {
   "cell_type": "code",
   "execution_count": 1,
   "id": "7354bab4-6d5d-4ae7-b49f-eae6137bb447",
   "metadata": {},
   "outputs": [],
   "source": [
    "import pandas as pd\n",
    "import sklearn\n",
    "import matplotlib.pyplot as plt\n",
    "import seaborn as sns\n",
    "import numpy as np"
   ]
  },
  {
   "cell_type": "code",
   "execution_count": 2,
   "id": "13c2b760-6d48-4f8e-8bdd-07ad0a97fd64",
   "metadata": {},
   "outputs": [],
   "source": [
    "file = \"train.csv\"\n",
    "data = pd.read_csv(file)"
   ]
  },
  {
   "cell_type": "code",
   "execution_count": 3,
   "id": "ae6b4d79-3866-4f28-85ed-9ac124356fad",
   "metadata": {},
   "outputs": [
    {
     "data": {
      "text/plain": [
       "Survived      int64\n",
       "Pclass        int64\n",
       "Sex          object\n",
       "Age         float64\n",
       "SibSp         int64\n",
       "Parch         int64\n",
       "Fare        float64\n",
       "Cabin        object\n",
       "Embarked     object\n",
       "dtype: object"
      ]
     },
     "execution_count": 3,
     "metadata": {},
     "output_type": "execute_result"
    }
   ],
   "source": [
    "data.drop([\"PassengerId\", \"Name\", \"Ticket\"], axis=1, inplace=True)\n",
    "data.dtypes"
   ]
  },
  {
   "cell_type": "markdown",
   "id": "59341223-23c4-4355-82c4-d3aa2dd33698",
   "metadata": {},
   "source": [
    "#### Cabin\n",
    "\n",
    "As we said on the explorator part. We saw that cabin is a code which contains a letter and a number. The letter represents the zone. That is why I think it may be interesting to work with this variable."
   ]
  },
  {
   "cell_type": "code",
   "execution_count": 4,
   "id": "444a745b-a18a-416f-86c9-cc8bdbaec141",
   "metadata": {},
   "outputs": [
    {
     "data": {
      "text/plain": [
       "'C85'"
      ]
     },
     "execution_count": 4,
     "metadata": {},
     "output_type": "execute_result"
    }
   ],
   "source": [
    "data.Cabin.dropna().iloc[0]"
   ]
  },
  {
   "cell_type": "code",
   "execution_count": 5,
   "id": "5483be76-2d6e-48e9-a397-f25117937418",
   "metadata": {},
   "outputs": [],
   "source": [
    "def getSection(cabin):\n",
    "    \n",
    "    if isinstance(cabin, str):\n",
    "        return cabin[0]\n",
    "    return\n",
    "\n",
    "data.Cabin = data.Cabin.apply(getSection)"
   ]
  },
  {
   "cell_type": "code",
   "execution_count": 6,
   "id": "5c129552-b3ab-4144-a1d6-9f6f4120a2ae",
   "metadata": {},
   "outputs": [
    {
     "data": {
      "text/plain": [
       "<seaborn.axisgrid.FacetGrid at 0x7f07cd383100>"
      ]
     },
     "execution_count": 6,
     "metadata": {},
     "output_type": "execute_result"
    },
    {
     "data": {
      "image/png": "[encoded data removed]",
      "text/plain": [
       "<Figure size 360x360 with 1 Axes>"
      ]
     },
     "metadata": {
      "needs_background": "light"
     },
     "output_type": "display_data"
    }
   ],
   "source": [
    "sns.catplot(data = data, x=\"Cabin\", y=\"Survived\", kind=\"bar\")"
   ]
  },
  {
   "cell_type": "markdown",
   "id": "cda47f86-ef7f-499d-8184-04e7ed21e45c",
   "metadata": {},
   "source": [
    "I can not see any strong relationship among the cabin and the survived column. In addition, we already now that this is the column which has the less data we know. It does not seem worthit to invest on inputing the missing values. Thus we are going to remove this feature. "
   ]
  },
  {
   "cell_type": "code",
   "execution_count": 7,
   "id": "55074688-bfb7-4dc3-81a6-a05c08971681",
   "metadata": {},
   "outputs": [],
   "source": [
    "data.drop(\"Cabin\", axis=1, inplace=True)"
   ]
  },
  {
   "cell_type": "markdown",
   "id": "17fd637e-3a4c-486f-9d9c-f4dda2b02a7d",
   "metadata": {},
   "source": [
    "#### Missing values\n",
    "\n",
    "In the case of age, we can not really use a linear regression to inpute it. We do not have any clear relation among the age an any other continuos variable. Thus we are going to use a knn inputer. Which is able thanks to sklearn.\n",
    "\n",
    "The knn inputer can not work with categorical data. Thus we are going to use ony the numerical data to feed it.\n",
    "\n",
    "We also are going to need an additional imputer which can manage categorical data. We are going to use the mode.\n",
    "\n",
    "Also sklearn need np.nan objects in order to identify missing values."
   ]
  },
  {
   "cell_type": "markdown",
   "id": "da0747ec-e8e3-45f1-90a3-343dc79a9b05",
   "metadata": {},
   "source": [
    "We will need to separate our data on train and test since the data imputation can vary depending on the data"
   ]
  },
  {
   "cell_type": "code",
   "execution_count": 8,
   "id": "6e81ea2f-bf52-4435-9093-3df66960f07d",
   "metadata": {},
   "outputs": [],
   "source": [
    "from sklearn.model_selection import train_test_split\n",
    "\n",
    "# Split of data\n",
    "data_train, data_test =  train_test_split(data, test_size=0.2, random_state=42)"
   ]
  },
  {
   "cell_type": "code",
   "execution_count": 9,
   "id": "c4fc67ef-4dea-4515-b8ad-8fa87e8a4cd8",
   "metadata": {},
   "outputs": [
    {
     "data": {
      "text/html": [
       "<div>\n",
       "<style scoped>\n",
       "    .dataframe tbody tr th:only-of-type {\n",
       "        vertical-align: middle;\n",
       "    }\n",
       "\n",
       "    .dataframe tbody tr th {\n",
       "        vertical-align: top;\n",
       "    }\n",
       "\n",
       "    .dataframe thead th {\n",
       "        text-align: right;\n",
       "    }\n",
       "</style>\n",
       "<table border=\"1\" class=\"dataframe\">\n",
       "  <thead>\n",
       "    <tr style=\"text-align: right;\">\n",
       "      <th></th>\n",
       "      <th>Survived</th>\n",
       "      <th>Pclass</th>\n",
       "      <th>Sex</th>\n",
       "      <th>Age</th>\n",
       "      <th>SibSp</th>\n",
       "      <th>Parch</th>\n",
       "      <th>Fare</th>\n",
       "      <th>Embarked</th>\n",
       "    </tr>\n",
       "  </thead>\n",
       "  <tbody>\n",
       "    <tr>\n",
       "      <th>331</th>\n",
       "      <td>0</td>\n",
       "      <td>1</td>\n",
       "      <td>male</td>\n",
       "      <td>45.5</td>\n",
       "      <td>0</td>\n",
       "      <td>0</td>\n",
       "      <td>28.5000</td>\n",
       "      <td>S</td>\n",
       "    </tr>\n",
       "    <tr>\n",
       "      <th>733</th>\n",
       "      <td>0</td>\n",
       "      <td>2</td>\n",
       "      <td>male</td>\n",
       "      <td>23.0</td>\n",
       "      <td>0</td>\n",
       "      <td>0</td>\n",
       "      <td>13.0000</td>\n",
       "      <td>S</td>\n",
       "    </tr>\n",
       "    <tr>\n",
       "      <th>382</th>\n",
       "      <td>0</td>\n",
       "      <td>3</td>\n",
       "      <td>male</td>\n",
       "      <td>32.0</td>\n",
       "      <td>0</td>\n",
       "      <td>0</td>\n",
       "      <td>7.9250</td>\n",
       "      <td>S</td>\n",
       "    </tr>\n",
       "    <tr>\n",
       "      <th>704</th>\n",
       "      <td>0</td>\n",
       "      <td>3</td>\n",
       "      <td>male</td>\n",
       "      <td>26.0</td>\n",
       "      <td>1</td>\n",
       "      <td>0</td>\n",
       "      <td>7.8542</td>\n",
       "      <td>S</td>\n",
       "    </tr>\n",
       "    <tr>\n",
       "      <th>813</th>\n",
       "      <td>0</td>\n",
       "      <td>3</td>\n",
       "      <td>female</td>\n",
       "      <td>6.0</td>\n",
       "      <td>4</td>\n",
       "      <td>2</td>\n",
       "      <td>31.2750</td>\n",
       "      <td>S</td>\n",
       "    </tr>\n",
       "    <tr>\n",
       "      <th>...</th>\n",
       "      <td>...</td>\n",
       "      <td>...</td>\n",
       "      <td>...</td>\n",
       "      <td>...</td>\n",
       "      <td>...</td>\n",
       "      <td>...</td>\n",
       "      <td>...</td>\n",
       "      <td>...</td>\n",
       "    </tr>\n",
       "    <tr>\n",
       "      <th>106</th>\n",
       "      <td>1</td>\n",
       "      <td>3</td>\n",
       "      <td>female</td>\n",
       "      <td>21.0</td>\n",
       "      <td>0</td>\n",
       "      <td>0</td>\n",
       "      <td>7.6500</td>\n",
       "      <td>S</td>\n",
       "    </tr>\n",
       "    <tr>\n",
       "      <th>270</th>\n",
       "      <td>0</td>\n",
       "      <td>1</td>\n",
       "      <td>male</td>\n",
       "      <td>NaN</td>\n",
       "      <td>0</td>\n",
       "      <td>0</td>\n",
       "      <td>31.0000</td>\n",
       "      <td>S</td>\n",
       "    </tr>\n",
       "    <tr>\n",
       "      <th>860</th>\n",
       "      <td>0</td>\n",
       "      <td>3</td>\n",
       "      <td>male</td>\n",
       "      <td>41.0</td>\n",
       "      <td>2</td>\n",
       "      <td>0</td>\n",
       "      <td>14.1083</td>\n",
       "      <td>S</td>\n",
       "    </tr>\n",
       "    <tr>\n",
       "      <th>435</th>\n",
       "      <td>1</td>\n",
       "      <td>1</td>\n",
       "      <td>female</td>\n",
       "      <td>14.0</td>\n",
       "      <td>1</td>\n",
       "      <td>2</td>\n",
       "      <td>120.0000</td>\n",
       "      <td>S</td>\n",
       "    </tr>\n",
       "    <tr>\n",
       "      <th>102</th>\n",
       "      <td>0</td>\n",
       "      <td>1</td>\n",
       "      <td>male</td>\n",
       "      <td>21.0</td>\n",
       "      <td>0</td>\n",
       "      <td>1</td>\n",
       "      <td>77.2875</td>\n",
       "      <td>S</td>\n",
       "    </tr>\n",
       "  </tbody>\n",
       "</table>\n",
       "<p>712 rows × 8 columns</p>\n",
       "</div>"
      ],
      "text/plain": [
       "     Survived  Pclass     Sex   Age  SibSp  Parch      Fare Embarked\n",
       "331         0       1    male  45.5      0      0   28.5000        S\n",
       "733         0       2    male  23.0      0      0   13.0000        S\n",
       "382         0       3    male  32.0      0      0    7.9250        S\n",
       "704         0       3    male  26.0      1      0    7.8542        S\n",
       "813         0       3  female   6.0      4      2   31.2750        S\n",
       "..        ...     ...     ...   ...    ...    ...       ...      ...\n",
       "106         1       3  female  21.0      0      0    7.6500        S\n",
       "270         0       1    male   NaN      0      0   31.0000        S\n",
       "860         0       3    male  41.0      2      0   14.1083        S\n",
       "435         1       1  female  14.0      1      2  120.0000        S\n",
       "102         0       1    male  21.0      0      1   77.2875        S\n",
       "\n",
       "[712 rows x 8 columns]"
      ]
     },
     "execution_count": 9,
     "metadata": {},
     "output_type": "execute_result"
    }
   ],
   "source": [
    "data_train"
   ]
  },
  {
   "cell_type": "code",
   "execution_count": 10,
   "id": "910351d0-d6f8-41d5-ac37-21ed82322b5e",
   "metadata": {},
   "outputs": [],
   "source": [
    "# Convert missing values to np.nan\n",
    "data_train.applymap(lambda x: x if x else np.nan)\n",
    "\n",
    "# Creating a list with the numerical features\n",
    "num = [data_train.dtypes.index[i] for i, dtype in enumerate(data_train.dtypes) if dtype != object]\n",
    "\n",
    "# Removing Survived from numerical features since we wont have it on the test set.\n",
    "num.remove(\"Survived\")\n",
    "\n",
    "# Creating a list with all the categorical features\n",
    "cat = [data_train.dtypes.index[i] for i, dtype in enumerate(data_train.dtypes) if dtype == object]"
   ]
  },
  {
   "cell_type": "code",
   "execution_count": 11,
   "id": "129059b2-d3b4-4448-bb42-3a5aae23b2e4",
   "metadata": {},
   "outputs": [],
   "source": [
    "from sklearn.impute import KNNImputer, SimpleImputer\n",
    "\n",
    "imputer = KNNImputer(n_neighbors=5)\n",
    "imputer_cat = SimpleImputer(strategy=\"most_frequent\")"
   ]
  },
  {
   "cell_type": "code",
   "execution_count": 12,
   "id": "513a9a46-f7ef-4738-8817-8fe538eb4d31",
   "metadata": {},
   "outputs": [],
   "source": [
    "#Inputing the data\n",
    "data_train[num] = imputer.fit_transform(data_train[num])\n",
    "data_train[cat] = imputer_cat.fit_transform(data_train[cat])\n",
    "\n",
    "data_test[num] = imputer.transform(data_test[num])\n",
    "data_test[cat] = imputer_cat.transform(data_test[cat])"
   ]
  },
  {
   "cell_type": "markdown",
   "id": "0277e148-c12d-40c9-ad59-8ad9c91765d2",
   "metadata": {},
   "source": [
    "#### Comments\n",
    "\n",
    "Pandas also provides ways of tackling  missing data. However, using slkern's tools allows us to use the whole sklearns ecosystem (pipelines, gridsearchers)."
   ]
  },
  {
   "cell_type": "markdown",
   "id": "1e06d4cd-b0b2-449c-81e0-1a578ed232a7",
   "metadata": {},
   "source": [
    "### Feature transformation\n",
    "\n",
    "Transforming the features we have will give us two advantages:\n",
    "* We can increase the performance of our classifiers (for example a logistic transformation may make a linear regressor work as fu...)\n",
    "\n",
    "* We can transform categorical data into numerical. That way we can increase the set of classifiers we may try."
   ]
  },
  {
   "cell_type": "markdown",
   "id": "2ee22546-74fa-47d0-87a8-1e8dd18a270b",
   "metadata": {},
   "source": [
    "#### Encoding\n",
    "We are going to transform  our categorical variables to a set of binary variables which determines if the original varible belongs to one of the categories. This encoding is called One Hot Encoding.\n",
    "\n",
    "We are going to transform Pclass (because it is categorical even if they are numbers), Sex and Embarked using this encoding.\n",
    "\n",
    "Sklearn also supports this encoding."
   ]
  },
  {
   "cell_type": "code",
   "execution_count": 13,
   "id": "38e5cd57-eee1-4090-b6b1-350b630f5c78",
   "metadata": {},
   "outputs": [],
   "source": [
    "from sklearn.preprocessing import OneHotEncoder\n",
    "\n",
    "encoder = OneHotEncoder(drop=\"first\", sparse=False)"
   ]
  },
  {
   "cell_type": "markdown",
   "id": "3ddd58a6-e32e-4f15-918c-425e0eec48da",
   "metadata": {},
   "source": [
    "If we have three categories 1, 2 and 3. The encoder will generate by default 3 columns. But we can change this to only use 2 columns because we just need 2 columns (if it is not 2 or 3, it should be one). We can do it with different ways. The drop=\"first\" will remove the first column."
   ]
  },
  {
   "cell_type": "code",
   "execution_count": 14,
   "id": "9f308d56-f5f9-4d5d-a22f-db70c7975662",
   "metadata": {},
   "outputs": [],
   "source": [
    "# Pclass is numerical, we have to convert it to a string\n",
    "data_train.Pclass = data_train.Pclass.apply(lambda x: str(x))\n",
    "data_test.Pclass = data_test.Pclass.apply(lambda x: str(x))\n",
    "\n",
    "# Categories you need\n",
    "categories = [\"Sex\", \"Pclass\", \"Embarked\"]"
   ]
  },
  {
   "cell_type": "code",
   "execution_count": 15,
   "id": "ee5aa500-de6f-4c0c-ad3d-016abe8aa94a",
   "metadata": {},
   "outputs": [],
   "source": [
    "# Encoding\n",
    "train_encoded = encoder.fit_transform(data_train[categories])\n",
    "test_encoded = encoder.transform(data_test[categories])"
   ]
  },
  {
   "cell_type": "code",
   "execution_count": 16,
   "id": "0a6b4150-8fc2-4fb5-9620-7c01ba94f1e1",
   "metadata": {},
   "outputs": [],
   "source": [
    "# New dataframe with codified categorical variables\n",
    "cols = encoder.get_feature_names_out(categories)\n",
    "train_encoded_df =  pd.DataFrame(train_encoded, columns=cols)\n",
    "test_encoded_df = pd.DataFrame(test_encoded, columns=cols)"
   ]
  },
  {
   "cell_type": "code",
   "execution_count": 17,
   "id": "66303c75-d74e-4525-8e0b-b40cc7f50cbd",
   "metadata": {},
   "outputs": [],
   "source": [
    "# Updating the dataframe\n",
    "\n",
    "#The indexes must concide in order to join\n",
    "train_encoded_df.index = data_train.index\n",
    "data_train = data_train.join(train_encoded_df)\n",
    "\n",
    "test_encoded_df.index = data_test.index\n",
    "data_test = data_test.join(test_encoded_df)"
   ]
  },
  {
   "cell_type": "code",
   "execution_count": 18,
   "id": "c64b8f97-d98a-41ec-a0b4-103cda38dbe7",
   "metadata": {},
   "outputs": [],
   "source": [
    "data_train.drop(categories, axis=1, inplace=True)\n",
    "data_test.drop(categories, axis=1, inplace=True)"
   ]
  },
  {
   "cell_type": "markdown",
   "id": "ce02649e-a81e-476e-ad2e-700fe5cc9cc0",
   "metadata": {},
   "source": [
    "### Conclusions\n",
    "\n",
    "We have removed Cabin. And we have transformed the data to numerical so we can try a lot of classifiers.\n",
    "Now we are going to save this transformed data to use in on the next section."
   ]
  },
  {
   "cell_type": "code",
   "execution_count": 19,
   "id": "4e775800-b0fc-4f92-beed-fc50fcd2029d",
   "metadata": {},
   "outputs": [],
   "source": [
    "data_train.to_csv(\"transformed_train.csv\", index=False)\n",
    "data_test.to_csv(\"transformed_test.csv\", index=False)"
   ]
  },
  {
   "cell_type": "markdown",
   "id": "2a8fba66-4088-4ca4-b910-5da32bf40d97",
   "metadata": {},
   "source": [
    "[Part 3]()"
   ]
  }
 ],
 "metadata": {
  "kernelspec": {
   "display_name": "venv",
   "language": "python",
   "name": "venv"
  },
  "language_info": {
   "codemirror_mode": {
    "name": "ipython",
    "version": 3
   },
   "file_extension": ".py",
   "mimetype": "text/x-python",
   "name": "python",
   "nbconvert_exporter": "python",
   "pygments_lexer": "ipython3",
   "version": "3.10.2"
  }
 },
 "nbformat": 4,
 "nbformat_minor": 5
}
