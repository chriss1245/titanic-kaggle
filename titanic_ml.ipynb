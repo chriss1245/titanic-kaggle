{
 "cells": [
  {
   "cell_type": "markdown",
   "metadata": {},
   "source": [
    "### Titanic: Kaggle Competition\n",
    "\n",
    "On this notebook we are going to classify whether a person survives or not in the Titanic accident based on different characteristics we have.\n",
    "\n",
    "In order to achieve this we are going to implement some *Feature Engineering* techniques. This techniques will allow us to handle missing data, and transform data so that we end up with an optimal dataset for our ML task. We are going to implement four major aspects in order to achieve a good performance."
   ]
  },
  {
   "cell_type": "markdown",
   "metadata": {},
   "source": [
    "### Dataset\n",
    "\n",
    "The data is gotten from [Kaggle](https://www.kaggle.com/c/titanic/data?select=train.csv): \n",
    "\n",
    "|Variable\t|Definition\t| Key|\n",
    "|-----------|-----------|----|\n",
    "|survival \t|Survival \t    |0 = No, 1 = Yes|\n",
    "|pclass \t|Ticket class \t|1 = 1st, 2 = 2nd, 3 = 3rd|\n",
    "|sex \t    |Sex \t        ||\n",
    "|Age \t    |Age in years \t||\n",
    "|sibsp \t    |# of siblings / spouses aboard the Titanic||\t\n",
    "|parch \t    |# of parents / children aboard the Titanic||\t\n",
    "|ticket \t|Ticket number \t||\n",
    "|fare \t    |Passenger fare ||\t\n",
    "|cabin \t    |Cabin number \t||\n",
    "|embarked \t|Port of Embarkation| \tC = Cherbourg, Q = Queenstown, S = Southampton|\n"
   ]
  },
  {
   "cell_type": "code",
   "execution_count": 70,
   "metadata": {},
   "outputs": [],
   "source": [
    "import pandas as pd\n",
    "import seaborn as sns"
   ]
  },
  {
   "cell_type": "code",
   "execution_count": 71,
   "metadata": {},
   "outputs": [
    {
     "data": {
      "text/plain": [
       "Index(['PassengerId', 'Survived', 'Pclass', 'Name', 'Sex', 'Age', 'SibSp',\n",
       "       'Parch', 'Ticket', 'Fare', 'Cabin', 'Embarked'],\n",
       "      dtype='object')"
      ]
     },
     "execution_count": 71,
     "metadata": {},
     "output_type": "execute_result"
    }
   ],
   "source": [
    "file = \"train.csv\"\n",
    "data = pd.read_csv(file)\n",
    "data.columns"
   ]
  },
  {
   "cell_type": "markdown",
   "metadata": {},
   "source": [
    "We do not need neither the PassengerId nor the Name for training. Those attributes are just identifiers. They do not add relevant information"
   ]
  },
  {
   "cell_type": "code",
   "execution_count": 72,
   "metadata": {},
   "outputs": [],
   "source": [
    "data.drop(columns=[\"PassengerId\", \"Name\"], inplace=True)"
   ]
  },
  {
   "cell_type": "markdown",
   "metadata": {},
   "source": [
    "### Data Exploratory Analysis\n",
    "\n",
    "Is our first step of Feature Engineering. It involves the data understanding. We must be able to identify patterns and characteristics in our dataset."
   ]
  },
  {
   "cell_type": "code",
   "execution_count": 73,
   "metadata": {},
   "outputs": [
    {
     "data": {
      "text/plain": [
       "Survived      int64\n",
       "Pclass        int64\n",
       "Sex          object\n",
       "Age         float64\n",
       "SibSp         int64\n",
       "Parch         int64\n",
       "Ticket       object\n",
       "Fare        float64\n",
       "Cabin        object\n",
       "Embarked     object\n",
       "dtype: object"
      ]
     },
     "execution_count": 73,
     "metadata": {},
     "output_type": "execute_result"
    }
   ],
   "source": [
    "# Data type of our columns\n",
    "data.dtypes"
   ]
  },
  {
   "cell_type": "code",
   "execution_count": 82,
   "metadata": {},
   "outputs": [
    {
     "name": "stdout",
     "output_type": "stream",
     "text": [
      "Missing data\n",
      "--------\n",
      "Survived      0\n",
      "Pclass        0\n",
      "Sex           0\n",
      "Age         177\n",
      "SibSp         0\n",
      "Parch         0\n",
      "Ticket        0\n",
      "Fare          0\n",
      "Cabin       687\n",
      "Embarked      2\n",
      "dtype: int64\n",
      "\n",
      "Lenght of the data : 891\n"
     ]
    }
   ],
   "source": [
    "# Missing data by columns\n",
    "\n",
    "print(\"Missing data\", end=\"\\n--------\\n\")\n",
    "print(data.isnull().sum())\n",
    "\n",
    "print(f\"\\nLenght of the data : {len(data)}\")"
   ]
  },
  {
   "cell_type": "markdown",
   "metadata": {},
   "source": [
    "We will need to find a way to fill the missing values on Age, Cabin and Embarked. We will tackle this issue later."
   ]
  },
  {
   "cell_type": "code",
   "execution_count": 75,
   "metadata": {},
   "outputs": [
    {
     "name": "stdout",
     "output_type": "stream",
     "text": [
      "Mean\n",
      "--------\n",
      "Survived     0.383838\n",
      "Pclass       2.308642\n",
      "Age         29.699118\n",
      "SibSp        0.523008\n",
      "Parch        0.381594\n",
      "Fare        32.204208\n",
      "dtype: float64\n",
      "s\n",
      "Median\n",
      "--------\n",
      "Survived     0.0000\n",
      "Pclass       3.0000\n",
      "Age         28.0000\n",
      "SibSp        0.0000\n",
      "Parch        0.0000\n",
      "Fare        14.4542\n",
      "dtype: float64\n"
     ]
    }
   ],
   "source": [
    "# List of categorical columns\n",
    "cat = [\"Sex\",\"Ticket\", \"Cabin\", \"Embarked\"]\n",
    "\n",
    "#Some statistics\n",
    "print(\"Mean\\n--------\", data.drop(columns=cat).mean(), sep=\"\\n\", end=\"\\ns\\n\")\n",
    "print(\"Median\\n--------\", data.drop(columns=cat).median(), sep=\"\\n\")"
   ]
  },
  {
   "cell_type": "markdown",
   "metadata": {},
   "source": [
    "As we can see: \n",
    "* The variance and the means are quite different. Altough linear models like linear regressions can handle this diversity. Other models like KNN may not. It may be interesting to scale the data in order to make them have a mean of 0 and a standard deviation of 1. \n",
    "\n",
    "* The predominant class is *not survived* with a frequency of 1-0.3838=0.6162; if we made a dummy classifier which always predict *not survived* we would get an accuracy around 0.60. Therefore, 0.6 of accuaraccy is our lower bound. Any classifier which achieves less accuracy is useless."
   ]
  },
  {
   "cell_type": "code",
   "execution_count": 76,
   "metadata": {},
   "outputs": [
    {
     "data": {
      "text/html": [
       "<div>\n",
       "<style scoped>\n",
       "    .dataframe tbody tr th:only-of-type {\n",
       "        vertical-align: middle;\n",
       "    }\n",
       "\n",
       "    .dataframe tbody tr th {\n",
       "        vertical-align: top;\n",
       "    }\n",
       "\n",
       "    .dataframe thead th {\n",
       "        text-align: right;\n",
       "    }\n",
       "</style>\n",
       "<table border=\"1\" class=\"dataframe\">\n",
       "  <thead>\n",
       "    <tr style=\"text-align: right;\">\n",
       "      <th></th>\n",
       "      <th>Survived</th>\n",
       "      <th>Pclass</th>\n",
       "      <th>Sex</th>\n",
       "      <th>Age</th>\n",
       "      <th>SibSp</th>\n",
       "      <th>Parch</th>\n",
       "      <th>Ticket</th>\n",
       "      <th>Fare</th>\n",
       "      <th>Cabin</th>\n",
       "      <th>Embarked</th>\n",
       "    </tr>\n",
       "  </thead>\n",
       "  <tbody>\n",
       "    <tr>\n",
       "      <th>0</th>\n",
       "      <td>0.0</td>\n",
       "      <td>3.0</td>\n",
       "      <td>male</td>\n",
       "      <td>24.0</td>\n",
       "      <td>0.0</td>\n",
       "      <td>0.0</td>\n",
       "      <td>1601</td>\n",
       "      <td>8.05</td>\n",
       "      <td>B96 B98</td>\n",
       "      <td>S</td>\n",
       "    </tr>\n",
       "    <tr>\n",
       "      <th>1</th>\n",
       "      <td>NaN</td>\n",
       "      <td>NaN</td>\n",
       "      <td>NaN</td>\n",
       "      <td>NaN</td>\n",
       "      <td>NaN</td>\n",
       "      <td>NaN</td>\n",
       "      <td>347082</td>\n",
       "      <td>NaN</td>\n",
       "      <td>C23 C25 C27</td>\n",
       "      <td>NaN</td>\n",
       "    </tr>\n",
       "    <tr>\n",
       "      <th>2</th>\n",
       "      <td>NaN</td>\n",
       "      <td>NaN</td>\n",
       "      <td>NaN</td>\n",
       "      <td>NaN</td>\n",
       "      <td>NaN</td>\n",
       "      <td>NaN</td>\n",
       "      <td>CA. 2343</td>\n",
       "      <td>NaN</td>\n",
       "      <td>G6</td>\n",
       "      <td>NaN</td>\n",
       "    </tr>\n",
       "  </tbody>\n",
       "</table>\n",
       "</div>"
      ],
      "text/plain": [
       "   Survived  Pclass   Sex   Age  SibSp  Parch    Ticket  Fare        Cabin  \\\n",
       "0       0.0     3.0  male  24.0    0.0    0.0      1601  8.05      B96 B98   \n",
       "1       NaN     NaN   NaN   NaN    NaN    NaN    347082   NaN  C23 C25 C27   \n",
       "2       NaN     NaN   NaN   NaN    NaN    NaN  CA. 2343   NaN           G6   \n",
       "\n",
       "  Embarked  \n",
       "0        S  \n",
       "1      NaN  \n",
       "2      NaN  "
      ]
     },
     "execution_count": 76,
     "metadata": {},
     "output_type": "execute_result"
    }
   ],
   "source": [
    "data.mode()"
   ]
  },
  {
   "cell_type": "markdown",
   "metadata": {},
   "source": [
    "On exploratory analysis is quite relevant the use of plots. Thanks to plots we can see how the features are distributed independently. Furthermore, we can see relations among features.\n",
    "\n",
    "\n",
    "The library seaborn is quite useful. It is an extension of matplotlib specialize in data analysis"
   ]
  },
  {
   "cell_type": "code",
   "execution_count": 77,
   "metadata": {},
   "outputs": [],
   "source": [
    "import seaborn as sns"
   ]
  },
  {
   "cell_type": "markdown",
   "metadata": {},
   "source": [
    "Seaborn has four main kinds of plots: Ralational, Distributional, Categorical and Regressions."
   ]
  },
  {
   "cell_type": "markdown",
   "metadata": {},
   "source": [
    "The categorical api of seaborn provides us the function [catplot](https://seaborn.pydata.org/generated/seaborn.catplot.html) which allows us to analyze relationships among numerical and categorical data using different plots.\n",
    "\n",
    "From [Seaborn Documentation](https://seaborn.pydata.org/generated/seaborn.catplot.html)  we can see that with catplot we can use any of the following functions by changing the parameter ``kind``\n",
    "\n",
    "* Categorical scatterplots:\n",
    "    * stripplot() (with kind=\"strip\"; the default)\n",
    "    * swarmplot() (with kind=\"swarm\")\n",
    "\n",
    "* Categorical distribution plots:\n",
    "    * boxplot() (with kind=\"box\")\n",
    "    * violinplot() (with kind=\"violin\")\n",
    "    * boxenplot() (with kind=\"boxen\")\n",
    "\n",
    "* Categorical estimate plots:\n",
    "    * pointplot() (with kind=\"point\")\n",
    "    * barplot() (with kind=\"bar\")\n",
    "    * countplot() (with kind=\"count\")\n",
    "\n",
    "Let's use some of them"
   ]
  },
  {
   "cell_type": "markdown",
   "metadata": {},
   "source": [
    "I am not quite sure whether the feature Cabin will be useful. Lets see it."
   ]
  },
  {
   "cell_type": "code",
   "execution_count": 95,
   "metadata": {},
   "outputs": [
    {
     "data": {
      "text/plain": [
       "<seaborn.axisgrid.FacetGrid at 0x7f1b7b235780>"
      ]
     },
     "execution_count": 95,
     "metadata": {},
     "output_type": "execute_result"
    },
    {
     "data": {
      "image/png": "[encoded data removed]",
      "text/plain": [
       "<Figure size 360x360 with 1 Axes>"
      ]
     },
     "metadata": {
      "needs_background": "light"
     },
     "output_type": "display_data"
    }
   ],
   "source": [
    "sns.catplot(data=data, y=\"Cabin\", kind=\"count\")"
   ]
  },
  {
   "cell_type": "markdown",
   "metadata": {},
   "source": [
    "The cabin attribute is a lot diverse. It seems to be also an identifier. In addition, It is the feature that has the less data samples. We have 687 of 891 null values. However, if we only keep the zone (instead of b57 have only b) it would make a lot of sense. People who is in a zone far away from the colision may survive. Thus, I will make some tests beofre removing this feature."
   ]
  },
  {
   "cell_type": "markdown",
   "metadata": {},
   "source": []
  },
  {
   "cell_type": "code",
   "execution_count": 78,
   "metadata": {},
   "outputs": [
    {
     "data": {
      "text/plain": [
       "<seaborn.axisgrid.FacetGrid at 0x7f1b7c563a90>"
      ]
     },
     "execution_count": 78,
     "metadata": {},
     "output_type": "execute_result"
    },
    {
     "data": {
      "image/png": "[encoded data removed]",
      "text/plain": [
       "<Figure size 430.5x360 with 1 Axes>"
      ]
     },
     "metadata": {
      "needs_background": "light"
     },
     "output_type": "display_data"
    }
   ],
   "source": [
    "sns.catplot(data=data, x=\"Survived\", hue=\"Sex\", kind=\"count\")"
   ]
  },
  {
   "cell_type": "code",
   "execution_count": null,
   "metadata": {},
   "outputs": [],
   "source": []
  }
 ],
 "metadata": {
  "interpreter": {
   "hash": "285e3f512f08f9ef64bd5423181a4a96029698380e996ba4dc1551887e492013"
  },
  "kernelspec": {
   "display_name": "Python 3.10.2 ('venv': venv)",
   "language": "python",
   "name": "python3"
  },
  "language_info": {
   "codemirror_mode": {
    "name": "ipython",
    "version": 3
   },
   "file_extension": ".py",
   "mimetype": "text/x-python",
   "name": "python",
   "nbconvert_exporter": "python",
   "pygments_lexer": "ipython3",
   "version": "3.10.2"
  },
  "orig_nbformat": 4
 },
 "nbformat": 4,
 "nbformat_minor": 2
}
